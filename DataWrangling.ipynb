{
 "cells": [
  {
   "cell_type": "markdown",
   "metadata": {},
   "source": [
    "# **Data Wrangling Lab**\n"
   ]
  },
  {
   "cell_type": "markdown",
   "metadata": {},
   "source": [
    "Estimated time needed: **45** minutes\n"
   ]
  },
  {
   "cell_type": "markdown",
   "metadata": {},
   "source": [
    "In this lab, we will perform data wrangling tasks to prepare raw data for analysis. Data wrangling involves cleaning, transforming, and organizing data into a structured format suitable for analysis. This lab focuses on tasks like identifying inconsistencies, encoding categorical variables, and feature transformation.\n"
   ]
  },
  {
   "cell_type": "markdown",
   "metadata": {},
   "source": [
    "## Objectives\n"
   ]
  },
  {
   "cell_type": "markdown",
   "metadata": {},
   "source": [
    "After completing this lab, we will be able to:\n"
   ]
  },
  {
   "cell_type": "markdown",
   "metadata": {},
   "source": [
    "- Identify and remove inconsistent data entries.\n",
    "\n",
    "- Encode categorical variables for analysis.\n",
    "\n",
    "- Handle missing values using multiple imputation strategies.\n",
    "\n",
    "- Apply feature scaling and transformation techniques.\n"
   ]
  },
  {
   "cell_type": "markdown",
   "metadata": {},
   "source": [
    "#### Intsall the required libraries\n"
   ]
  },
  {
   "cell_type": "code",
   "execution_count": 1,
   "metadata": {},
   "outputs": [
    {
     "name": "stdout",
     "output_type": "stream",
     "text": [
      "Requirement already satisfied: pandas in c:\\users\\upbim\\appdata\\local\\programs\\python\\python312\\lib\\site-packages (2.3.0)\n",
      "Requirement already satisfied: numpy>=1.26.0 in c:\\users\\upbim\\appdata\\local\\programs\\python\\python312\\lib\\site-packages (from pandas) (2.3.1)\n",
      "Requirement already satisfied: python-dateutil>=2.8.2 in c:\\users\\upbim\\appdata\\local\\programs\\python\\python312\\lib\\site-packages (from pandas) (2.9.0.post0)\n",
      "Requirement already satisfied: pytz>=2020.1 in c:\\users\\upbim\\appdata\\local\\programs\\python\\python312\\lib\\site-packages (from pandas) (2025.2)\n",
      "Requirement already satisfied: tzdata>=2022.7 in c:\\users\\upbim\\appdata\\local\\programs\\python\\python312\\lib\\site-packages (from pandas) (2025.2)\n",
      "Requirement already satisfied: six>=1.5 in c:\\users\\upbim\\appdata\\local\\programs\\python\\python312\\lib\\site-packages (from python-dateutil>=2.8.2->pandas) (1.17.0)\n",
      "Requirement already satisfied: matplotlib in c:\\users\\upbim\\appdata\\local\\programs\\python\\python312\\lib\\site-packages (3.10.3)\n",
      "Requirement already satisfied: contourpy>=1.0.1 in c:\\users\\upbim\\appdata\\local\\programs\\python\\python312\\lib\\site-packages (from matplotlib) (1.3.2)\n",
      "Requirement already satisfied: cycler>=0.10 in c:\\users\\upbim\\appdata\\local\\programs\\python\\python312\\lib\\site-packages (from matplotlib) (0.12.1)\n",
      "Requirement already satisfied: fonttools>=4.22.0 in c:\\users\\upbim\\appdata\\local\\programs\\python\\python312\\lib\\site-packages (from matplotlib) (4.58.4)\n",
      "Requirement already satisfied: kiwisolver>=1.3.1 in c:\\users\\upbim\\appdata\\local\\programs\\python\\python312\\lib\\site-packages (from matplotlib) (1.4.8)\n",
      "Requirement already satisfied: numpy>=1.23 in c:\\users\\upbim\\appdata\\local\\programs\\python\\python312\\lib\\site-packages (from matplotlib) (2.3.1)\n",
      "Requirement already satisfied: packaging>=20.0 in c:\\users\\upbim\\appdata\\local\\programs\\python\\python312\\lib\\site-packages (from matplotlib) (25.0)\n",
      "Requirement already satisfied: pillow>=8 in c:\\users\\upbim\\appdata\\local\\programs\\python\\python312\\lib\\site-packages (from matplotlib) (11.2.1)\n",
      "Requirement already satisfied: pyparsing>=2.3.1 in c:\\users\\upbim\\appdata\\local\\programs\\python\\python312\\lib\\site-packages (from matplotlib) (3.2.3)\n",
      "Requirement already satisfied: python-dateutil>=2.7 in c:\\users\\upbim\\appdata\\local\\programs\\python\\python312\\lib\\site-packages (from matplotlib) (2.9.0.post0)\n",
      "Requirement already satisfied: six>=1.5 in c:\\users\\upbim\\appdata\\local\\programs\\python\\python312\\lib\\site-packages (from python-dateutil>=2.7->matplotlib) (1.17.0)\n"
     ]
    }
   ],
   "source": [
    "!pip install pandas\n",
    "!pip install matplotlib"
   ]
  },
  {
   "cell_type": "markdown",
   "metadata": {},
   "source": [
    "## Tasks\n"
   ]
  },
  {
   "cell_type": "markdown",
   "metadata": {},
   "source": [
    "#### Step 1: Import the necessary module.\n"
   ]
  },
  {
   "cell_type": "markdown",
   "metadata": {},
   "source": [
    "### 1. Load the Dataset\n"
   ]
  },
  {
   "cell_type": "markdown",
   "metadata": {},
   "source": [
    "<h5>1.1 Import necessary libraries and load the dataset.</h5>\n"
   ]
  },
  {
   "cell_type": "markdown",
   "metadata": {},
   "source": [
    "Ensure the dataset is loaded correctly by displaying the first few rows.\n"
   ]
  },
  {
   "cell_type": "code",
   "execution_count": 37,
   "metadata": {},
   "outputs": [
    {
     "name": "stdout",
     "output_type": "stream",
     "text": [
      "   ResponseId                      MainBranch                 Age  \\\n",
      "0           1  I am a developer by profession  Under 18 years old   \n",
      "1           2  I am a developer by profession     35-44 years old   \n",
      "2           3  I am a developer by profession     45-54 years old   \n",
      "3           4           I am learning to code     18-24 years old   \n",
      "4           5  I am a developer by profession     18-24 years old   \n",
      "\n",
      "            Employment RemoteWork   Check  \\\n",
      "0  Employed, full-time     Remote  Apples   \n",
      "1  Employed, full-time     Remote  Apples   \n",
      "2  Employed, full-time     Remote  Apples   \n",
      "3   Student, full-time        NaN  Apples   \n",
      "4   Student, full-time        NaN  Apples   \n",
      "\n",
      "                                    CodingActivities  \\\n",
      "0                                              Hobby   \n",
      "1  Hobby;Contribute to open-source projects;Other...   \n",
      "2  Hobby;Contribute to open-source projects;Other...   \n",
      "3                                                NaN   \n",
      "4                                                NaN   \n",
      "\n",
      "                                             EdLevel  \\\n",
      "0                          Primary/elementary school   \n",
      "1       Bachelor’s degree (B.A., B.S., B.Eng., etc.)   \n",
      "2    Master’s degree (M.A., M.S., M.Eng., MBA, etc.)   \n",
      "3  Some college/university study without earning ...   \n",
      "4  Secondary school (e.g. American high school, G...   \n",
      "\n",
      "                                           LearnCode  \\\n",
      "0                             Books / Physical media   \n",
      "1  Books / Physical media;Colleague;On the job tr...   \n",
      "2  Books / Physical media;Colleague;On the job tr...   \n",
      "3  Other online resources (e.g., videos, blogs, f...   \n",
      "4  Other online resources (e.g., videos, blogs, f...   \n",
      "\n",
      "                                     LearnCodeOnline  ... JobSatPoints_6  \\\n",
      "0                                                NaN  ...            NaN   \n",
      "1  Technical documentation;Blogs;Books;Written Tu...  ...            0.0   \n",
      "2  Technical documentation;Blogs;Books;Written Tu...  ...            NaN   \n",
      "3  Stack Overflow;How-to videos;Interactive tutorial  ...            NaN   \n",
      "4  Technical documentation;Blogs;Written Tutorial...  ...            NaN   \n",
      "\n",
      "  JobSatPoints_7 JobSatPoints_8 JobSatPoints_9 JobSatPoints_10  \\\n",
      "0            NaN            NaN            NaN             NaN   \n",
      "1            0.0            0.0            0.0             0.0   \n",
      "2            NaN            NaN            NaN             NaN   \n",
      "3            NaN            NaN            NaN             NaN   \n",
      "4            NaN            NaN            NaN             NaN   \n",
      "\n",
      "  JobSatPoints_11           SurveyLength SurveyEase ConvertedCompYearly JobSat  \n",
      "0             NaN                    NaN        NaN                 NaN    NaN  \n",
      "1             0.0                    NaN        NaN                 NaN    NaN  \n",
      "2             NaN  Appropriate in length       Easy                 NaN    NaN  \n",
      "3             NaN               Too long       Easy                 NaN    NaN  \n",
      "4             NaN              Too short       Easy                 NaN    NaN  \n",
      "\n",
      "[5 rows x 114 columns]\n"
     ]
    }
   ],
   "source": [
    "# Import necessary libraries\n",
    "import pandas as pd\n",
    "\n",
    "# Load the Stack Overflow survey data\n",
    "dataset_url = \"https://cf-courses-data.s3.us.cloud-object-storage.appdomain.cloud/n01PQ9pSmiRX6520flujwQ/survey-data.csv\"\n",
    "df = pd.read_csv(dataset_url)\n",
    "\n",
    "# Display the first few rows\n",
    "print(df.head())\n"
   ]
  },
  {
   "cell_type": "code",
   "execution_count": null,
   "metadata": {},
   "outputs": [],
   "source": []
  },
  {
   "cell_type": "markdown",
   "metadata": {},
   "source": [
    "#### 2. Explore the Dataset\n"
   ]
  },
  {
   "cell_type": "markdown",
   "metadata": {},
   "source": [
    "<h5>2.1 Summarize the dataset by displaying the column data types, counts, and missing values.</h5>\n"
   ]
  },
  {
   "cell_type": "code",
   "execution_count": 5,
   "metadata": {},
   "outputs": [
    {
     "name": "stdout",
     "output_type": "stream",
     "text": [
      "<class 'pandas.core.frame.DataFrame'>\n",
      "RangeIndex: 65437 entries, 0 to 65436\n",
      "Columns: 114 entries, ResponseId to JobSat\n",
      "dtypes: float64(13), int64(1), object(100)\n",
      "memory usage: 56.9+ MB\n"
     ]
    }
   ],
   "source": [
    "#info of the data\n",
    "df.info()"
   ]
  },
  {
   "cell_type": "code",
   "execution_count": 7,
   "metadata": {
    "scrolled": true
   },
   "outputs": [
    {
     "name": "stdout",
     "output_type": "stream",
     "text": [
      "ResponseId\n",
      "ResponseId\n",
      "False    65437\n",
      "Name: count, dtype: int64\n",
      "\n",
      "MainBranch\n",
      "MainBranch\n",
      "False    65437\n",
      "Name: count, dtype: int64\n",
      "\n",
      "Age\n",
      "Age\n",
      "False    65437\n",
      "Name: count, dtype: int64\n",
      "\n",
      "Employment\n",
      "Employment\n",
      "False    65437\n",
      "Name: count, dtype: int64\n",
      "\n",
      "RemoteWork\n",
      "RemoteWork\n",
      "False    54806\n",
      "True     10631\n",
      "Name: count, dtype: int64\n",
      "\n",
      "Check\n",
      "Check\n",
      "False    65437\n",
      "Name: count, dtype: int64\n",
      "\n",
      "CodingActivities\n",
      "CodingActivities\n",
      "False    54466\n",
      "True     10971\n",
      "Name: count, dtype: int64\n",
      "\n",
      "EdLevel\n",
      "EdLevel\n",
      "False    60784\n",
      "True      4653\n",
      "Name: count, dtype: int64\n",
      "\n",
      "LearnCode\n",
      "LearnCode\n",
      "False    60488\n",
      "True      4949\n",
      "Name: count, dtype: int64\n",
      "\n",
      "LearnCodeOnline\n",
      "LearnCodeOnline\n",
      "False    49237\n",
      "True     16200\n",
      "Name: count, dtype: int64\n",
      "\n",
      "TechDoc\n",
      "TechDoc\n",
      "False    40897\n",
      "True     24540\n",
      "Name: count, dtype: int64\n",
      "\n",
      "YearsCode\n",
      "YearsCode\n",
      "False    59869\n",
      "True      5568\n",
      "Name: count, dtype: int64\n",
      "\n",
      "YearsCodePro\n",
      "YearsCodePro\n",
      "False    51610\n",
      "True     13827\n",
      "Name: count, dtype: int64\n",
      "\n",
      "DevType\n",
      "DevType\n",
      "False    59445\n",
      "True      5992\n",
      "Name: count, dtype: int64\n",
      "\n",
      "OrgSize\n",
      "OrgSize\n",
      "False    47480\n",
      "True     17957\n",
      "Name: count, dtype: int64\n",
      "\n",
      "PurchaseInfluence\n",
      "PurchaseInfluence\n",
      "False    47406\n",
      "True     18031\n",
      "Name: count, dtype: int64\n",
      "\n",
      "BuyNewTool\n",
      "BuyNewTool\n",
      "False    45181\n",
      "True     20256\n",
      "Name: count, dtype: int64\n",
      "\n",
      "BuildvsBuy\n",
      "BuildvsBuy\n",
      "False    43358\n",
      "True     22079\n",
      "Name: count, dtype: int64\n",
      "\n",
      "TechEndorse\n",
      "TechEndorse\n",
      "False    43668\n",
      "True     21769\n",
      "Name: count, dtype: int64\n",
      "\n",
      "Country\n",
      "Country\n",
      "False    58930\n",
      "True      6507\n",
      "Name: count, dtype: int64\n",
      "\n",
      "Currency\n",
      "Currency\n",
      "False    46684\n",
      "True     18753\n",
      "Name: count, dtype: int64\n",
      "\n",
      "CompTotal\n",
      "CompTotal\n",
      "False    33740\n",
      "True     31697\n",
      "Name: count, dtype: int64\n",
      "\n",
      "LanguageHaveWorkedWith\n",
      "LanguageHaveWorkedWith\n",
      "False    59745\n",
      "True      5692\n",
      "Name: count, dtype: int64\n",
      "\n",
      "LanguageWantToWorkWith\n",
      "LanguageWantToWorkWith\n",
      "False    55752\n",
      "True      9685\n",
      "Name: count, dtype: int64\n",
      "\n",
      "LanguageAdmired\n",
      "LanguageAdmired\n",
      "False    50872\n",
      "True     14565\n",
      "Name: count, dtype: int64\n",
      "\n",
      "DatabaseHaveWorkedWith\n",
      "DatabaseHaveWorkedWith\n",
      "False    50254\n",
      "True     15183\n",
      "Name: count, dtype: int64\n",
      "\n",
      "DatabaseWantToWorkWith\n",
      "DatabaseWantToWorkWith\n",
      "False    42558\n",
      "True     22879\n",
      "Name: count, dtype: int64\n",
      "\n",
      "DatabaseAdmired\n",
      "DatabaseAdmired\n",
      "False    38557\n",
      "True     26880\n",
      "Name: count, dtype: int64\n",
      "\n",
      "PlatformHaveWorkedWith\n",
      "PlatformHaveWorkedWith\n",
      "False    42366\n",
      "True     23071\n",
      "Name: count, dtype: int64\n",
      "\n",
      "PlatformWantToWorkWith\n",
      "PlatformWantToWorkWith\n",
      "False    34532\n",
      "True     30905\n",
      "Name: count, dtype: int64\n",
      "\n",
      "PlatformAdmired\n",
      "PlatformAdmired\n",
      "True     34060\n",
      "False    31377\n",
      "Name: count, dtype: int64\n",
      "\n",
      "WebframeHaveWorkedWith\n",
      "WebframeHaveWorkedWith\n",
      "False    45161\n",
      "True     20276\n",
      "Name: count, dtype: int64\n",
      "\n",
      "WebframeWantToWorkWith\n",
      "WebframeWantToWorkWith\n",
      "False    38535\n",
      "True     26902\n",
      "Name: count, dtype: int64\n",
      "\n",
      "WebframeAdmired\n",
      "WebframeAdmired\n",
      "False    34943\n",
      "True     30494\n",
      "Name: count, dtype: int64\n",
      "\n",
      "EmbeddedHaveWorkedWith\n",
      "EmbeddedHaveWorkedWith\n",
      "True     43223\n",
      "False    22214\n",
      "Name: count, dtype: int64\n",
      "\n",
      "EmbeddedWantToWorkWith\n",
      "EmbeddedWantToWorkWith\n",
      "True     47837\n",
      "False    17600\n",
      "Name: count, dtype: int64\n",
      "\n",
      "EmbeddedAdmired\n",
      "EmbeddedAdmired\n",
      "True     48704\n",
      "False    16733\n",
      "Name: count, dtype: int64\n",
      "\n",
      "MiscTechHaveWorkedWith\n",
      "MiscTechHaveWorkedWith\n",
      "False    39443\n",
      "True     25994\n",
      "Name: count, dtype: int64\n",
      "\n",
      "MiscTechWantToWorkWith\n",
      "MiscTechWantToWorkWith\n",
      "False    32964\n",
      "True     32473\n",
      "Name: count, dtype: int64\n",
      "\n",
      "MiscTechAdmired\n",
      "MiscTechAdmired\n",
      "True     35841\n",
      "False    29596\n",
      "Name: count, dtype: int64\n",
      "\n",
      "ToolsTechHaveWorkedWith\n",
      "ToolsTechHaveWorkedWith\n",
      "False    52482\n",
      "True     12955\n",
      "Name: count, dtype: int64\n",
      "\n",
      "ToolsTechWantToWorkWith\n",
      "ToolsTechWantToWorkWith\n",
      "False    46084\n",
      "True     19353\n",
      "Name: count, dtype: int64\n",
      "\n",
      "ToolsTechAdmired\n",
      "ToolsTechAdmired\n",
      "False    43997\n",
      "True     21440\n",
      "Name: count, dtype: int64\n",
      "\n",
      "NEWCollabToolsHaveWorkedWith\n",
      "NEWCollabToolsHaveWorkedWith\n",
      "False    57592\n",
      "True      7845\n",
      "Name: count, dtype: int64\n",
      "\n",
      "NEWCollabToolsWantToWorkWith\n",
      "NEWCollabToolsWantToWorkWith\n",
      "False    52087\n",
      "True     13350\n",
      "Name: count, dtype: int64\n",
      "\n",
      "NEWCollabToolsAdmired\n",
      "NEWCollabToolsAdmired\n",
      "False    50711\n",
      "True     14726\n",
      "Name: count, dtype: int64\n",
      "\n",
      "OpSysPersonal use\n",
      "OpSysPersonal use\n",
      "False    58174\n",
      "True      7263\n",
      "Name: count, dtype: int64\n",
      "\n",
      "OpSysProfessional use\n",
      "OpSysProfessional use\n",
      "False    52973\n",
      "True     12464\n",
      "Name: count, dtype: int64\n",
      "\n",
      "OfficeStackAsyncHaveWorkedWith\n",
      "OfficeStackAsyncHaveWorkedWith\n",
      "False    48093\n",
      "True     17344\n",
      "Name: count, dtype: int64\n",
      "\n",
      "OfficeStackAsyncWantToWorkWith\n",
      "OfficeStackAsyncWantToWorkWith\n",
      "False    38966\n",
      "True     26471\n",
      "Name: count, dtype: int64\n",
      "\n",
      "OfficeStackAsyncAdmired\n",
      "OfficeStackAsyncAdmired\n",
      "False    37204\n",
      "True     28233\n",
      "Name: count, dtype: int64\n",
      "\n",
      "OfficeStackSyncHaveWorkedWith\n",
      "OfficeStackSyncHaveWorkedWith\n",
      "False    55545\n",
      "True      9892\n",
      "Name: count, dtype: int64\n",
      "\n",
      "OfficeStackSyncWantToWorkWith\n",
      "OfficeStackSyncWantToWorkWith\n",
      "False    46711\n",
      "True     18726\n",
      "Name: count, dtype: int64\n",
      "\n",
      "OfficeStackSyncAdmired\n",
      "OfficeStackSyncAdmired\n",
      "False    44712\n",
      "True     20725\n",
      "Name: count, dtype: int64\n",
      "\n",
      "AISearchDevHaveWorkedWith\n",
      "AISearchDevHaveWorkedWith\n",
      "False    44453\n",
      "True     20984\n",
      "Name: count, dtype: int64\n",
      "\n",
      "AISearchDevWantToWorkWith\n",
      "AISearchDevWantToWorkWith\n",
      "False    36701\n",
      "True     28736\n",
      "Name: count, dtype: int64\n",
      "\n",
      "AISearchDevAdmired\n",
      "AISearchDevAdmired\n",
      "False    35543\n",
      "True     29894\n",
      "Name: count, dtype: int64\n",
      "\n",
      "NEWSOSites\n",
      "NEWSOSites\n",
      "False    60286\n",
      "True      5151\n",
      "Name: count, dtype: int64\n",
      "\n",
      "SOVisitFreq\n",
      "SOVisitFreq\n",
      "False    59536\n",
      "True      5901\n",
      "Name: count, dtype: int64\n",
      "\n",
      "SOAccount\n",
      "SOAccount\n",
      "False    59560\n",
      "True      5877\n",
      "Name: count, dtype: int64\n",
      "\n",
      "SOPartFreq\n",
      "SOPartFreq\n",
      "False    45237\n",
      "True     20200\n",
      "Name: count, dtype: int64\n",
      "\n",
      "SOHow\n",
      "SOHow\n",
      "False    58962\n",
      "True      6475\n",
      "Name: count, dtype: int64\n",
      "\n",
      "SOComm\n",
      "SOComm\n",
      "False    59163\n",
      "True      6274\n",
      "Name: count, dtype: int64\n",
      "\n",
      "AISelect\n",
      "AISelect\n",
      "False    60907\n",
      "True      4530\n",
      "Name: count, dtype: int64\n",
      "\n",
      "AISent\n",
      "AISent\n",
      "False    45873\n",
      "True     19564\n",
      "Name: count, dtype: int64\n",
      "\n",
      "AIBen\n",
      "AIBen\n",
      "False    36894\n",
      "True     28543\n",
      "Name: count, dtype: int64\n",
      "\n",
      "AIAcc\n",
      "AIAcc\n",
      "False    37302\n",
      "True     28135\n",
      "Name: count, dtype: int64\n",
      "\n",
      "AIComplex\n",
      "AIComplex\n",
      "False    37021\n",
      "True     28416\n",
      "Name: count, dtype: int64\n",
      "\n",
      "AIToolCurrently Using\n",
      "AIToolCurrently Using\n",
      "False    35072\n",
      "True     30365\n",
      "Name: count, dtype: int64\n",
      "\n",
      "AIToolInterested in Using\n",
      "AIToolInterested in Using\n",
      "True     34746\n",
      "False    30691\n",
      "Name: count, dtype: int64\n",
      "\n",
      "AIToolNot interested in Using\n",
      "AIToolNot interested in Using\n",
      "True     41023\n",
      "False    24414\n",
      "Name: count, dtype: int64\n",
      "\n",
      "AINextMuch more integrated\n",
      "AINextMuch more integrated\n",
      "True     51999\n",
      "False    13438\n",
      "Name: count, dtype: int64\n",
      "\n",
      "AINextNo change\n",
      "AINextNo change\n",
      "True     52939\n",
      "False    12498\n",
      "Name: count, dtype: int64\n",
      "\n",
      "AINextMore integrated\n",
      "AINextMore integrated\n",
      "True     41009\n",
      "False    24428\n",
      "Name: count, dtype: int64\n",
      "\n",
      "AINextLess integrated\n",
      "AINextLess integrated\n",
      "True     63082\n",
      "False     2355\n",
      "Name: count, dtype: int64\n",
      "\n",
      "AINextMuch less integrated\n",
      "AINextMuch less integrated\n",
      "True     64289\n",
      "False     1148\n",
      "Name: count, dtype: int64\n",
      "\n",
      "AIThreat\n",
      "AIThreat\n",
      "False    44689\n",
      "True     20748\n",
      "Name: count, dtype: int64\n",
      "\n",
      "AIEthics\n",
      "AIEthics\n",
      "False    41548\n",
      "True     23889\n",
      "Name: count, dtype: int64\n",
      "\n",
      "AIChallenges\n",
      "AIChallenges\n",
      "False    37531\n",
      "True     27906\n",
      "Name: count, dtype: int64\n",
      "\n",
      "TBranch\n",
      "TBranch\n",
      "False    44477\n",
      "True     20960\n",
      "Name: count, dtype: int64\n",
      "\n",
      "ICorPM\n",
      "ICorPM\n",
      "True     35636\n",
      "False    29801\n",
      "Name: count, dtype: int64\n",
      "\n",
      "WorkExp\n",
      "WorkExp\n",
      "True     35779\n",
      "False    29658\n",
      "Name: count, dtype: int64\n",
      "\n",
      "Knowledge_1\n",
      "Knowledge_1\n",
      "True     36773\n",
      "False    28664\n",
      "Name: count, dtype: int64\n",
      "\n",
      "Knowledge_2\n",
      "Knowledge_2\n",
      "True     37416\n",
      "False    28021\n",
      "Name: count, dtype: int64\n",
      "\n",
      "Knowledge_3\n",
      "Knowledge_3\n",
      "True     37342\n",
      "False    28095\n",
      "Name: count, dtype: int64\n",
      "\n",
      "Knowledge_4\n",
      "Knowledge_4\n",
      "True     37407\n",
      "False    28030\n",
      "Name: count, dtype: int64\n",
      "\n",
      "Knowledge_5\n",
      "Knowledge_5\n",
      "True     37557\n",
      "False    27880\n",
      "Name: count, dtype: int64\n",
      "\n",
      "Knowledge_6\n",
      "Knowledge_6\n",
      "True     37573\n",
      "False    27864\n",
      "Name: count, dtype: int64\n",
      "\n",
      "Knowledge_7\n",
      "Knowledge_7\n",
      "True     37659\n",
      "False    27778\n",
      "Name: count, dtype: int64\n",
      "\n",
      "Knowledge_8\n",
      "Knowledge_8\n",
      "True     37679\n",
      "False    27758\n",
      "Name: count, dtype: int64\n",
      "\n",
      "Knowledge_9\n",
      "Knowledge_9\n",
      "True     37802\n",
      "False    27635\n",
      "Name: count, dtype: int64\n",
      "\n",
      "Frequency_1\n",
      "Frequency_1\n",
      "True     37068\n",
      "False    28369\n",
      "Name: count, dtype: int64\n",
      "\n",
      "Frequency_2\n",
      "Frequency_2\n",
      "True     37073\n",
      "False    28364\n",
      "Name: count, dtype: int64\n",
      "\n",
      "Frequency_3\n",
      "Frequency_3\n",
      "True     37727\n",
      "False    27710\n",
      "Name: count, dtype: int64\n",
      "\n",
      "TimeSearching\n",
      "TimeSearching\n",
      "True     36526\n",
      "False    28911\n",
      "Name: count, dtype: int64\n",
      "\n",
      "TimeAnswering\n",
      "TimeAnswering\n",
      "True     36593\n",
      "False    28844\n",
      "Name: count, dtype: int64\n",
      "\n",
      "Frustration\n",
      "Frustration\n",
      "True     37186\n",
      "False    28251\n",
      "Name: count, dtype: int64\n",
      "\n",
      "ProfessionalTech\n",
      "ProfessionalTech\n",
      "True     37673\n",
      "False    27764\n",
      "Name: count, dtype: int64\n",
      "\n",
      "ProfessionalCloud\n",
      "ProfessionalCloud\n",
      "True     36946\n",
      "False    28491\n",
      "Name: count, dtype: int64\n",
      "\n",
      "ProfessionalQuestion\n",
      "ProfessionalQuestion\n",
      "True     36630\n",
      "False    28807\n",
      "Name: count, dtype: int64\n",
      "\n",
      "Industry\n",
      "Industry\n",
      "True     36579\n",
      "False    28858\n",
      "Name: count, dtype: int64\n",
      "\n",
      "JobSatPoints_1\n",
      "JobSatPoints_1\n",
      "True     36113\n",
      "False    29324\n",
      "Name: count, dtype: int64\n",
      "\n",
      "JobSatPoints_4\n",
      "JobSatPoints_4\n",
      "True     36044\n",
      "False    29393\n",
      "Name: count, dtype: int64\n",
      "\n",
      "JobSatPoints_5\n",
      "JobSatPoints_5\n",
      "True     36026\n",
      "False    29411\n",
      "Name: count, dtype: int64\n",
      "\n",
      "JobSatPoints_6\n",
      "JobSatPoints_6\n",
      "True     35987\n",
      "False    29450\n",
      "Name: count, dtype: int64\n",
      "\n",
      "JobSatPoints_7\n",
      "JobSatPoints_7\n",
      "True     35989\n",
      "False    29448\n",
      "Name: count, dtype: int64\n",
      "\n",
      "JobSatPoints_8\n",
      "JobSatPoints_8\n",
      "True     35981\n",
      "False    29456\n",
      "Name: count, dtype: int64\n",
      "\n",
      "JobSatPoints_9\n",
      "JobSatPoints_9\n",
      "True     35981\n",
      "False    29456\n",
      "Name: count, dtype: int64\n",
      "\n",
      "JobSatPoints_10\n",
      "JobSatPoints_10\n",
      "True     35987\n",
      "False    29450\n",
      "Name: count, dtype: int64\n",
      "\n",
      "JobSatPoints_11\n",
      "JobSatPoints_11\n",
      "True     35992\n",
      "False    29445\n",
      "Name: count, dtype: int64\n",
      "\n",
      "SurveyLength\n",
      "SurveyLength\n",
      "False    56182\n",
      "True      9255\n",
      "Name: count, dtype: int64\n",
      "\n",
      "SurveyEase\n",
      "SurveyEase\n",
      "False    56238\n",
      "True      9199\n",
      "Name: count, dtype: int64\n",
      "\n",
      "ConvertedCompYearly\n",
      "ConvertedCompYearly\n",
      "True     42002\n",
      "False    23435\n",
      "Name: count, dtype: int64\n",
      "\n",
      "JobSat\n",
      "JobSat\n",
      "True     36311\n",
      "False    29126\n",
      "Name: count, dtype: int64\n",
      "\n"
     ]
    }
   ],
   "source": [
    "#this code display the missing values with counts and data type in the columns\n",
    "missing_data = df.isnull()\n",
    "for column in missing_data.columns.values.tolist():\n",
    "    print(column)\n",
    "    print (missing_data[column].value_counts())\n",
    "    print(\"\")"
   ]
  },
  {
   "cell_type": "markdown",
   "metadata": {},
   "source": [
    "<h5>2.2 Generate basic statistics for numerical columns.</h5>\n"
   ]
  },
  {
   "cell_type": "code",
   "execution_count": 8,
   "metadata": {},
   "outputs": [
    {
     "name": "stdout",
     "output_type": "stream",
     "text": [
      "The basic statistical description of numeric columns are:          ResponseId      CompTotal       WorkExp  JobSatPoints_1  \\\n",
      "count  65437.000000   3.374000e+04  29658.000000    29324.000000   \n",
      "mean   32719.000000  2.963841e+145     11.466957       18.581094   \n",
      "std    18890.179119  5.444117e+147      9.168709       25.966221   \n",
      "min        1.000000   0.000000e+00      0.000000        0.000000   \n",
      "25%    16360.000000   6.000000e+04      4.000000        0.000000   \n",
      "50%    32719.000000   1.100000e+05      9.000000       10.000000   \n",
      "75%    49078.000000   2.500000e+05     16.000000       22.000000   \n",
      "max    65437.000000  1.000000e+150     50.000000      100.000000   \n",
      "\n",
      "       JobSatPoints_4  JobSatPoints_5  JobSatPoints_6  JobSatPoints_7  \\\n",
      "count    29393.000000    29411.000000    29450.000000     29448.00000   \n",
      "mean         7.522140       10.060857       24.343232        22.96522   \n",
      "std         18.422661       21.833836       27.089360        27.01774   \n",
      "min          0.000000        0.000000        0.000000         0.00000   \n",
      "25%          0.000000        0.000000        0.000000         0.00000   \n",
      "50%          0.000000        0.000000       20.000000        15.00000   \n",
      "75%          5.000000       10.000000       30.000000        30.00000   \n",
      "max        100.000000      100.000000      100.000000       100.00000   \n",
      "\n",
      "       JobSatPoints_8  JobSatPoints_9  JobSatPoints_10  JobSatPoints_11  \\\n",
      "count    29456.000000    29456.000000     29450.000000     29445.000000   \n",
      "mean        20.278165       16.169432        10.955713         9.953948   \n",
      "std         26.108110       24.845032        22.906263        21.775652   \n",
      "min          0.000000        0.000000         0.000000         0.000000   \n",
      "25%          0.000000        0.000000         0.000000         0.000000   \n",
      "50%         10.000000        5.000000         0.000000         0.000000   \n",
      "75%         25.000000       20.000000        10.000000        10.000000   \n",
      "max        100.000000      100.000000       100.000000       100.000000   \n",
      "\n",
      "       ConvertedCompYearly        JobSat  \n",
      "count         2.343500e+04  29126.000000  \n",
      "mean          8.615529e+04      6.935041  \n",
      "std           1.867570e+05      2.088259  \n",
      "min           1.000000e+00      0.000000  \n",
      "25%           3.271200e+04      6.000000  \n",
      "50%           6.500000e+04      7.000000  \n",
      "75%           1.079715e+05      8.000000  \n",
      "max           1.625660e+07     10.000000  \n"
     ]
    }
   ],
   "source": [
    "# statistical description of the numerical columns\n",
    "#print(df.describe(include='object')) if wanted to include non numerical data as well\n",
    "print(f'The basic statistical description of numeric columns are:', df.describe())"
   ]
  },
  {
   "cell_type": "markdown",
   "metadata": {},
   "source": [
    "### 3. Identifying and Removing Inconsistencies\n"
   ]
  },
  {
   "cell_type": "markdown",
   "metadata": {},
   "source": [
    "<h5>3.1 Identify inconsistent or irrelevant entries in specific columns (e.g., Country).</h5>\n"
   ]
  },
  {
   "cell_type": "code",
   "execution_count": 29,
   "metadata": {},
   "outputs": [],
   "source": [
    "#remove any extra white spaces\n",
    "df['Country'] = df['Country'].str.strip()"
   ]
  },
  {
   "cell_type": "code",
   "execution_count": 30,
   "metadata": {},
   "outputs": [
    {
     "name": "stdout",
     "output_type": "stream",
     "text": [
      "\n",
      "Unique values and their counts for 'Country':\n",
      "Country\n",
      "United States of America                                11095\n",
      "Germany                                                  4947\n",
      "India                                                    4231\n",
      "United Kingdom of Great Britain and Northern Ireland     3224\n",
      "Ukraine                                                  2672\n",
      "                                                        ...  \n",
      "Micronesia, Federated States of...                          1\n",
      "Nauru                                                       1\n",
      "Chad                                                        1\n",
      "Djibouti                                                    1\n",
      "Solomon Islands                                             1\n",
      "Name: count, Length: 185, dtype: int64\n"
     ]
    }
   ],
   "source": [
    "# Write your code here\n",
    "column_to_check = 'Country'\n",
    "\n",
    "if column_to_check in df.columns:\n",
    "    print(f\"\\nUnique values and their counts for '{column_to_check}':\")\n",
    "    # Display the top 50 unique values and their counts to quickly spot common inconsistencies.\n",
    "    # we might need to adjust .head() based on the diversity of your data.\n",
    "    print(df[column_to_check].value_counts().sort_values(ascending=False))"
   ]
  },
  {
   "cell_type": "markdown",
   "metadata": {},
   "source": [
    "<h5>3.2 Standardize entries in columns like Country or EdLevel by mapping inconsistent values to a consistent format.</h5>\n"
   ]
  },
  {
   "cell_type": "code",
   "execution_count": 31,
   "metadata": {},
   "outputs": [
    {
     "data": {
      "text/plain": [
       "np.int64(6507)"
      ]
     },
     "execution_count": 31,
     "metadata": {},
     "output_type": "execute_result"
    }
   ],
   "source": [
    "## Write your code here\n",
    "##first the country column data looks fine however there are some missing values in country column so we are going to remove them.\n",
    "df['Country'].isnull().sum()"
   ]
  },
  {
   "cell_type": "code",
   "execution_count": 63,
   "metadata": {},
   "outputs": [
    {
     "data": {
      "text/plain": [
       "58930"
      ]
     },
     "execution_count": 63,
     "metadata": {},
     "output_type": "execute_result"
    }
   ],
   "source": [
    "df.dropna(subset=['Country'], inplace=True)\n",
    "rows_after_country_drop = df.shape[0]\n",
    "rows_after_country_drop"
   ]
  },
  {
   "cell_type": "code",
   "execution_count": 38,
   "metadata": {},
   "outputs": [
    {
     "data": {
      "text/plain": [
       "np.int64(4653)"
      ]
     },
     "execution_count": 38,
     "metadata": {},
     "output_type": "execute_result"
    }
   ],
   "source": [
    "df['EdLevel'].isnull().sum()"
   ]
  },
  {
   "cell_type": "code",
   "execution_count": 41,
   "metadata": {},
   "outputs": [],
   "source": [
    "df.dropna(subset=['EdLevel'], inplace=True)"
   ]
  },
  {
   "cell_type": "code",
   "execution_count": 44,
   "metadata": {},
   "outputs": [
    {
     "data": {
      "text/plain": [
       "np.int64(0)"
      ]
     },
     "execution_count": 44,
     "metadata": {},
     "output_type": "execute_result"
    }
   ],
   "source": [
    "df['EdLevel'].isnull().sum()"
   ]
  },
  {
   "cell_type": "code",
   "execution_count": 45,
   "metadata": {},
   "outputs": [
    {
     "data": {
      "text/plain": [
       "EdLevel\n",
       "Bachelor’s degree (B.A., B.S., B.Eng., etc.)                                          24942\n",
       "Master’s degree (M.A., M.S., M.Eng., MBA, etc.)                                       15557\n",
       "Some college/university study without earning a degree                                 7651\n",
       "Secondary school (e.g. American high school, German Realschule or Gymnasium, etc.)     5793\n",
       "Professional degree (JD, MD, Ph.D, Ed.D, etc.)                                         2970\n",
       "Associate degree (A.A., A.S., etc.)                                                    1793\n",
       "Primary/elementary school                                                              1146\n",
       "Something else                                                                          932\n",
       "Name: count, dtype: int64"
      ]
     },
     "execution_count": 45,
     "metadata": {},
     "output_type": "execute_result"
    }
   ],
   "source": [
    "df['EdLevel'].value_counts().head(50)"
   ]
  },
  {
   "cell_type": "code",
   "execution_count": 51,
   "metadata": {},
   "outputs": [
    {
     "data": {
      "text/plain": [
       "np.int64(60784)"
      ]
     },
     "execution_count": 51,
     "metadata": {},
     "output_type": "execute_result"
    }
   ],
   "source": [
    "df['EdLevel'].count()"
   ]
  },
  {
   "cell_type": "code",
   "execution_count": 47,
   "metadata": {},
   "outputs": [],
   "source": [
    "import numpy as np"
   ]
  },
  {
   "cell_type": "code",
   "execution_count": 54,
   "metadata": {},
   "outputs": [
    {
     "name": "stdout",
     "output_type": "stream",
     "text": [
      "\n",
      "--- Checking and Cleaning 'EdLevel' Column ---\n",
      "Number of non-null rows in 'EdLevel' column: 60784\n"
     ]
    },
    {
     "data": {
      "text/plain": [
       "EdLevel\n",
       "Bachelor’s                24942\n",
       "Master’s                  15557\n",
       "College without Degree     7651\n",
       "Secondary School           5793\n",
       "Professional Degree        2970\n",
       "Associate Degree           1793\n",
       "Primary School             1146\n",
       "Something Else              932\n",
       "Name: count, dtype: int64"
      ]
     },
     "execution_count": 54,
     "metadata": {},
     "output_type": "execute_result"
    }
   ],
   "source": [
    "#now let's map for EdLevel into consistent format\n",
    "column_to_check_edlevel = 'EdLevel'\n",
    "df[column_to_check_edlevel] = df[column_to_check_edlevel].astype(str).str.strip()\n",
    "\n",
    "edlevel_mapping = {\n",
    "        'Bachelor’s degree (B.A., B.S., B.Eng., etc.)': 'Bachelor’s',\n",
    "        'Master’s degree (M.A., M.S., M.Eng., MBA, etc.)': 'Master’s',\n",
    "        'Some college/university study without earning a degree': 'College without Degree',\n",
    "        'Secondary school (e.g. American high school, German Realschule or Gymnasium, etc.)': 'Secondary School',\n",
    "        'Professional degree (JD, MD, Ph.D, Ed.D, etc.)':'Professional Degree',\n",
    "        'Associate degree (A.A., A.S., etc.)': 'Associate Degree',\n",
    "        'Primary/elementary school': 'Primary School',\n",
    "        'Something else': 'Something Else',\n",
    "        'nan': np.nan, # Ensure 'nan' string is also treated as NaN\n",
    "        'NA' : np.nan\n",
    "    }\n",
    "df[column_to_check_edlevel] = df[column_to_check_edlevel].replace(edlevel_mapping)\n",
    "  \n",
    "print(f\"\\n--- Checking and Cleaning 'EdLevel' Column ---\")\n",
    "#Check how many rows are in 'EdLevel' column (non-null count)\n",
    "edlevel_non_null_count = df[column_to_check_edlevel].count()\n",
    "print(f\"Number of non-null rows in '{column_to_check_edlevel}' column: {edlevel_non_null_count}\")\n",
    "df[column_to_check_edlevel].value_counts().head(10)"
   ]
  },
  {
   "cell_type": "markdown",
   "metadata": {},
   "source": [
    "### 4. Encoding Categorical Variables\n"
   ]
  },
  {
   "cell_type": "markdown",
   "metadata": {},
   "source": [
    "<h5>4.1 Encode the Employment column using one-hot encoding.</h5>\n"
   ]
  },
  {
   "cell_type": "code",
   "execution_count": 56,
   "metadata": {
    "scrolled": true
   },
   "outputs": [
    {
     "name": "stdout",
     "output_type": "stream",
     "text": [
      "\n",
      "Identified unique employment types: ['Employed, full-time', 'Student, full-time', 'Not employed, but looking for work', 'Independent contractor, freelancer, or self-employed', 'Not employed, and not looking for work', 'Student, part-time', 'Employed, part-time', 'I prefer not to say', 'Retired']\n",
      "\n",
      "First 5 rows of DataFrame with new one-hot encoded 'Employment' columns:\n",
      "\n",
      "First 5 rows of DataFrame with new one-hot encoded 'Employment' columns:\n",
      "\n",
      "First 5 rows of DataFrame with new one-hot encoded 'Employment' columns:\n",
      "\n",
      "First 5 rows of DataFrame with new one-hot encoded 'Employment' columns:\n",
      "\n",
      "First 5 rows of DataFrame with new one-hot encoded 'Employment' columns:\n",
      "\n",
      "First 5 rows of DataFrame with new one-hot encoded 'Employment' columns:\n",
      "\n",
      "First 5 rows of DataFrame with new one-hot encoded 'Employment' columns:\n",
      "\n",
      "First 5 rows of DataFrame with new one-hot encoded 'Employment' columns:\n",
      "\n",
      "First 5 rows of DataFrame with new one-hot encoded 'Employment' columns:\n",
      "            Employment  Employment_Employed_full_time  \\\n",
      "0  Employed, full-time                              1   \n",
      "1  Employed, full-time                              1   \n",
      "2  Employed, full-time                              1   \n",
      "3   Student, full-time                              0   \n",
      "4   Student, full-time                              0   \n",
      "\n",
      "   Employment_Student_full_time  Employment_Not_employed_but_looking_for_work  \\\n",
      "0                             0                                             0   \n",
      "1                             0                                             0   \n",
      "2                             0                                             0   \n",
      "3                             1                                             0   \n",
      "4                             1                                             0   \n",
      "\n",
      "   Employment_Independent_contractor_freelancer_or_self_employed  \\\n",
      "0                                                  0               \n",
      "1                                                  0               \n",
      "2                                                  0               \n",
      "3                                                  0               \n",
      "4                                                  0               \n",
      "\n",
      "   Employment_Not_employed_and_not_looking_for_work  \\\n",
      "0                                                 0   \n",
      "1                                                 0   \n",
      "2                                                 0   \n",
      "3                                                 0   \n",
      "4                                                 0   \n",
      "\n",
      "   Employment_Student_part_time  Employment_Employed_part_time  \\\n",
      "0                             0                              0   \n",
      "1                             0                              0   \n",
      "2                             0                              0   \n",
      "3                             0                              0   \n",
      "4                             0                              0   \n",
      "\n",
      "   Employment_I_prefer_not_to_say  Employment_Retired  \n",
      "0                               0                   0  \n",
      "1                               0                   0  \n",
      "2                               0                   0  \n",
      "3                               0                   0  \n",
      "4                               0                   0  \n",
      "\n",
      "Full DataFrame with one-hot encoded columns:\n",
      "0        Employed, full-time\n",
      "1        Employed, full-time\n",
      "2        Employed, full-time\n",
      "3         Student, full-time\n",
      "4         Student, full-time\n",
      "                ...         \n",
      "65428    Employed, full-time\n",
      "65431    Employed, full-time\n",
      "65432    Employed, full-time\n",
      "65434    Employed, full-time\n",
      "65435    Employed, full-time\n",
      "Name: Employment, Length: 60784, dtype: object\n"
     ]
    }
   ],
   "source": [
    "import re\n",
    "column_to_encode_employment = 'Employment'\n",
    "# Split the 'Employment' column by semicolon and clean up whitespace\n",
    "# Then explode to get one row per individual employment type\n",
    "employment_series = df[column_to_encode_employment].astype(str).str.split(';').explode().str.strip()\n",
    "\n",
    "# Get all unique employment types\n",
    "unique_employment_types = employment_series.unique()\n",
    "print(f\"\\nIdentified unique employment types: {unique_employment_types.tolist()}\")\n",
    "\n",
    "# Create new one-hot encoded columns\n",
    "for emp_type in unique_employment_types:\n",
    "    # Create a new column for each employment type\n",
    "    # Check if the original (cleaned) 'Employment' string contains the specific type\n",
    "    # Use a regex pattern for 'in' check to ensure exact match and avoid partial matches\n",
    "    # e.g., 'Employed' matching 'Employed, full-time'    \n",
    "    pattern = r'\\b' + re.escape(emp_type) + r'\\b'\n",
    "    df[f'Employment_{emp_type.replace(\" \", \"_\").replace(\",\", \"\").replace(\"-\", \"_\").replace(\"/\", \"_\")}'] = \\\n",
    "    df[column_to_encode_employment].apply(lambda x: 1 if re.search(pattern, x) else 0)\n",
    "\n",
    "    # Display the first few rows with the new one-hot encoded columns\n",
    "    print(f\"\\nFirst 5 rows of DataFrame with new one-hot encoded '{column_to_encode_employment}' columns:\")\n",
    "    # Dynamically select the new columns based on unique_employment_types\n",
    "new_emp_cols = [f'Employment_{emp_type.replace(\" \", \"_\").replace(\",\", \"\").replace(\"-\", \"_\").replace(\"/\", \"_\")}' for emp_type in unique_employment_types]\n",
    "print(df[[column_to_encode_employment] + new_emp_cols].head())\n",
    "\n",
    "    # Display the full DataFrame to show the new columns\n",
    "print(\"\\nFull DataFrame with one-hot encoded columns:\")\n",
    "print(df[column_to_encode_employment])"
   ]
  },
  {
   "cell_type": "code",
   "execution_count": 58,
   "metadata": {
    "scrolled": true
   },
   "outputs": [
    {
     "data": {
      "text/plain": [
       "Employment\n",
       "Employed, full-time                                                                                                                                                                                                     36525\n",
       "Independent contractor, freelancer, or self-employed                                                                                                                                                                     4534\n",
       "Student, full-time                                                                                                                                                                                                       4242\n",
       "Employed, full-time;Independent contractor, freelancer, or self-employed                                                                                                                                                 3346\n",
       "Not employed, but looking for work                                                                                                                                                                                       2127\n",
       "Employed, part-time                                                                                                                                                                                                      1147\n",
       "Student, full-time;Employed, part-time                                                                                                                                                                                   1036\n",
       "Employed, full-time;Student, full-time                                                                                                                                                                                    803\n",
       "Employed, full-time;Student, part-time                                                                                                                                                                                    770\n",
       "Student, full-time;Not employed, but looking for work                                                                                                                                                                     641\n",
       "Not employed, and not looking for work                                                                                                                                                                                    576\n",
       "Student, part-time;Employed, part-time                                                                                                                                                                                    519\n",
       "Retired                                                                                                                                                                                                                   501\n",
       "I prefer not to say                                                                                                                                                                                                       464\n",
       "Student, part-time                                                                                                                                                                                                        428\n",
       "Independent contractor, freelancer, or self-employed;Employed, part-time                                                                                                                                                  384\n",
       "Not employed, but looking for work;Independent contractor, freelancer, or self-employed                                                                                                                                   355\n",
       "Student, full-time;Independent contractor, freelancer, or self-employed                                                                                                                                                   351\n",
       "Student, full-time;Not employed, and not looking for work                                                                                                                                                                 283\n",
       "Employed, full-time;Employed, part-time                                                                                                                                                                                   196\n",
       "Employed, full-time;Independent contractor, freelancer, or self-employed;Employed, part-time                                                                                                                              168\n",
       "Employed, full-time;Independent contractor, freelancer, or self-employed;Student, part-time                                                                                                                               130\n",
       "Not employed, but looking for work;Student, part-time                                                                                                                                                                     125\n",
       "Independent contractor, freelancer, or self-employed;Student, part-time                                                                                                                                                   123\n",
       "Student, full-time;Independent contractor, freelancer, or self-employed;Employed, part-time                                                                                                                               114\n",
       "Employed, full-time;Student, full-time;Independent contractor, freelancer, or self-employed                                                                                                                                82\n",
       "Student, full-time;Not employed, but looking for work;Independent contractor, freelancer, or self-employed                                                                                                                 77\n",
       "Independent contractor, freelancer, or self-employed;Student, part-time;Employed, part-time                                                                                                                                56\n",
       "Independent contractor, freelancer, or self-employed;Not employed, and not looking for work                                                                                                                                53\n",
       "Employed, full-time;Not employed, but looking for work                                                                                                                                                                     49\n",
       "Independent contractor, freelancer, or self-employed;Retired                                                                                                                                                               48\n",
       "Student, full-time;Student, part-time                                                                                                                                                                                      45\n",
       "Not employed, and not looking for work;Student, part-time                                                                                                                                                                  44\n",
       "Not employed, but looking for work;Independent contractor, freelancer, or self-employed;Student, part-time                                                                                                                 41\n",
       "Not employed, but looking for work;Not employed, and not looking for work                                                                                                                                                  38\n",
       "Employed, full-time;Student, full-time;Employed, part-time                                                                                                                                                                 34\n",
       "Not employed, but looking for work;Independent contractor, freelancer, or self-employed;Employed, part-time                                                                                                                23\n",
       "Not employed, but looking for work;Employed, part-time                                                                                                                                                                     23\n",
       "Not employed, and not looking for work;Retired                                                                                                                                                                             17\n",
       "Student, full-time;Independent contractor, freelancer, or self-employed;Not employed, and not looking for work                                                                                                             17\n",
       "Employed, full-time;Not employed, but looking for work;Independent contractor, freelancer, or self-employed                                                                                                                11\n",
       "Employed, full-time;Retired                                                                                                                                                                                                11\n",
       "Student, full-time;Independent contractor, freelancer, or self-employed;Student, part-time                                                                                                                                 11\n",
       "Employed, full-time;Independent contractor, freelancer, or self-employed;Student, part-time;Employed, part-time                                                                                                            10\n",
       "Student, full-time;Not employed, but looking for work;Student, part-time                                                                                                                                                   10\n",
       "Not employed, but looking for work;Independent contractor, freelancer, or self-employed;Retired                                                                                                                             9\n",
       "Employed, full-time;Student, part-time;Employed, part-time                                                                                                                                                                  9\n",
       "Employed, full-time;Student, full-time;Not employed, but looking for work;Independent contractor, freelancer, or self-employed;Not employed, and not looking for work;Student, part-time;Employed, part-time;Retired        9\n",
       "Employed, full-time;Student, full-time;Independent contractor, freelancer, or self-employed;Employed, part-time                                                                                                             8\n",
       "Student, full-time;Not employed, and not looking for work;Student, part-time                                                                                                                                                8\n",
       "Name: count, dtype: int64"
      ]
     },
     "execution_count": 58,
     "metadata": {},
     "output_type": "execute_result"
    }
   ],
   "source": [
    "df[column_to_encode_employment].value_counts().head(50)"
   ]
  },
  {
   "cell_type": "markdown",
   "metadata": {},
   "source": [
    "### 5. Handling Missing Values\n"
   ]
  },
  {
   "cell_type": "markdown",
   "metadata": {},
   "source": [
    "<h5>5.1 Identify columns with the highest number of missing values.</h5>\n"
   ]
  },
  {
   "cell_type": "code",
   "execution_count": 64,
   "metadata": {
    "scrolled": true
   },
   "outputs": [
    {
     "name": "stdout",
     "output_type": "stream",
     "text": [
      "Column: AINextMuch less integrated\n",
      "Missing Percentage: 98.18%\n",
      "\n",
      "Column: AINextLess integrated\n",
      "Missing Percentage: 96.17%\n",
      "\n",
      "Column: AINextNo change\n",
      "Missing Percentage: 79.33%\n",
      "\n",
      "Column: AINextMuch more integrated\n",
      "Missing Percentage: 77.83%\n",
      "\n",
      "Column: EmbeddedAdmired\n",
      "Missing Percentage: 72.18%\n",
      "\n",
      "Column: EmbeddedWantToWorkWith\n",
      "Missing Percentage: 70.75%\n",
      "\n",
      "Column: EmbeddedHaveWorkedWith\n",
      "Missing Percentage: 63.21%\n",
      "\n",
      "Column: ConvertedCompYearly\n",
      "Missing Percentage: 60.23%\n",
      "\n",
      "Column: AIToolNot interested in Using\n",
      "Missing Percentage: 59.91%\n",
      "\n",
      "Column: AINextMore integrated\n",
      "Missing Percentage: 59.60%\n",
      "\n",
      "Column: Knowledge_9\n",
      "Missing Percentage: 53.11%\n",
      "\n",
      "Column: Frequency_3\n",
      "Missing Percentage: 52.98%\n",
      "\n",
      "Column: Knowledge_8\n",
      "Missing Percentage: 52.90%\n",
      "\n",
      "Column: ProfessionalTech\n",
      "Missing Percentage: 52.89%\n",
      "\n",
      "Column: Knowledge_7\n",
      "Missing Percentage: 52.86%\n",
      "\n",
      "Column: Knowledge_6\n",
      "Missing Percentage: 52.72%\n",
      "\n",
      "Column: Knowledge_5\n",
      "Missing Percentage: 52.69%\n",
      "\n",
      "Column: Knowledge_2\n",
      "Missing Percentage: 52.45%\n",
      "\n",
      "Column: Knowledge_4\n",
      "Missing Percentage: 52.44%\n",
      "\n",
      "Column: Knowledge_3\n",
      "Missing Percentage: 52.32%\n",
      "\n",
      "Column: Frustration\n",
      "Missing Percentage: 52.06%\n",
      "\n",
      "Column: Frequency_2\n",
      "Missing Percentage: 51.87%\n",
      "\n",
      "Column: Frequency_1\n",
      "Missing Percentage: 51.86%\n",
      "\n",
      "Column: ProfessionalCloud\n",
      "Missing Percentage: 51.65%\n",
      "\n",
      "Column: Knowledge_1\n",
      "Missing Percentage: 51.36%\n",
      "\n",
      "Column: ProfessionalQuestion\n",
      "Missing Percentage: 51.12%\n",
      "\n",
      "Column: TimeAnswering\n",
      "Missing Percentage: 51.05%\n",
      "\n",
      "Column: Industry\n",
      "Missing Percentage: 51.03%\n",
      "\n",
      "Column: TimeSearching\n",
      "Missing Percentage: 50.94%\n",
      "\n",
      "Column: MiscTechAdmired\n",
      "Missing Percentage: 50.81%\n",
      "\n",
      "Column: JobSat\n",
      "Missing Percentage: 50.58%\n",
      "\n",
      "Column: JobSatPoints_1\n",
      "Missing Percentage: 50.24%\n",
      "\n",
      "Column: JobSatPoints_4\n",
      "Missing Percentage: 50.12%\n",
      "\n",
      "Column: JobSatPoints_5\n",
      "Missing Percentage: 50.09%\n",
      "\n",
      "Column: JobSatPoints_11\n",
      "Missing Percentage: 50.03%\n",
      "\n",
      "Column: JobSatPoints_7\n",
      "Missing Percentage: 50.03%\n",
      "\n",
      "Column: JobSatPoints_10\n",
      "Missing Percentage: 50.03%\n",
      "\n",
      "Column: JobSatPoints_6\n",
      "Missing Percentage: 50.03%\n",
      "\n",
      "Column: JobSatPoints_9\n",
      "Missing Percentage: 50.02%\n",
      "\n",
      "Column: JobSatPoints_8\n",
      "Missing Percentage: 50.02%\n",
      "\n",
      "Column: AIToolInterested in Using\n",
      "Missing Percentage: 49.71%\n",
      "\n",
      "Column: WorkExp\n",
      "Missing Percentage: 49.67%\n",
      "\n",
      "Column: ICorPM\n",
      "Missing Percentage: 49.43%\n",
      "\n",
      "Column: PlatformAdmired\n",
      "Missing Percentage: 48.17%\n",
      "\n",
      "Column: MiscTechWantToWorkWith\n",
      "Missing Percentage: 45.22%\n",
      "\n",
      "Column: PlatformWantToWorkWith\n",
      "Missing Percentage: 43.05%\n",
      "\n",
      "Column: CompTotal\n",
      "Missing Percentage: 42.75%\n",
      "\n",
      "Column: AIToolCurrently Using\n",
      "Missing Percentage: 42.58%\n",
      "\n",
      "Column: WebframeAdmired\n",
      "Missing Percentage: 42.16%\n",
      "\n",
      "Column: AISearchDevAdmired\n",
      "Missing Percentage: 40.49%\n",
      "\n",
      "Column: AIBen\n",
      "Missing Percentage: 40.38%\n",
      "\n",
      "Column: AIComplex\n",
      "Missing Percentage: 40.03%\n",
      "\n",
      "Column: AIAcc\n",
      "Missing Percentage: 39.65%\n",
      "\n",
      "Column: AISearchDevWantToWorkWith\n",
      "Missing Percentage: 38.56%\n",
      "\n",
      "Column: OfficeStackAsyncAdmired\n",
      "Missing Percentage: 37.71%\n",
      "\n",
      "Column: AIChallenges\n",
      "Missing Percentage: 37.40%\n",
      "\n",
      "Column: DatabaseAdmired\n",
      "Missing Percentage: 36.31%\n",
      "\n",
      "Column: WebframeWantToWorkWith\n",
      "Missing Percentage: 36.29%\n",
      "\n",
      "Column: OfficeStackAsyncWantToWorkWith\n",
      "Missing Percentage: 34.77%\n",
      "\n",
      "Column: MiscTechHaveWorkedWith\n",
      "Missing Percentage: 34.60%\n",
      "\n",
      "Column: TechDoc\n",
      "Missing Percentage: 31.86%\n",
      "\n",
      "Column: AIEthics\n",
      "Missing Percentage: 31.09%\n",
      "\n",
      "Column: PlatformHaveWorkedWith\n",
      "Missing Percentage: 30.21%\n",
      "\n",
      "Column: DatabaseWantToWorkWith\n",
      "Missing Percentage: 29.85%\n",
      "\n",
      "Column: BuildvsBuy\n",
      "Missing Percentage: 27.11%\n",
      "\n",
      "Column: ToolsTechAdmired\n",
      "Missing Percentage: 26.66%\n",
      "\n",
      "Column: AIThreat\n",
      "Missing Percentage: 26.30%\n",
      "\n",
      "Column: TechEndorse\n",
      "Missing Percentage: 26.14%\n",
      "\n",
      "Column: AISent\n",
      "Missing Percentage: 25.84%\n",
      "\n",
      "Column: AISearchDevHaveWorkedWith\n",
      "Missing Percentage: 25.61%\n",
      "\n",
      "Column: WebframeHaveWorkedWith\n",
      "Missing Percentage: 25.51%\n",
      "\n",
      "Column: SOPartFreq\n",
      "Missing Percentage: 25.30%\n",
      "\n",
      "Column: OfficeStackSyncAdmired\n",
      "Missing Percentage: 25.09%\n",
      "\n",
      "Column: BuyNewTool\n",
      "Missing Percentage: 24.59%\n",
      "\n",
      "Column: TBranch\n",
      "Missing Percentage: 24.53%\n",
      "\n",
      "Column: ToolsTechWantToWorkWith\n",
      "Missing Percentage: 23.23%\n",
      "\n",
      "Column: OfficeStackSyncWantToWorkWith\n",
      "Missing Percentage: 21.76%\n",
      "\n",
      "Column: PurchaseInfluence\n",
      "Missing Percentage: 21.26%\n",
      "\n",
      "Column: OrgSize\n",
      "Missing Percentage: 21.20%\n",
      "\n",
      "Column: Currency\n",
      "Missing Percentage: 20.78%\n",
      "\n",
      "Column: OfficeStackAsyncHaveWorkedWith\n",
      "Missing Percentage: 19.65%\n",
      "\n",
      "Column: LearnCodeOnline\n",
      "Missing Percentage: 18.40%\n",
      "\n",
      "Column: DatabaseHaveWorkedWith\n",
      "Missing Percentage: 17.40%\n",
      "\n",
      "Column: LanguageAdmired\n",
      "Missing Percentage: 16.23%\n",
      "\n",
      "Column: RemoteWork\n",
      "Missing Percentage: 16.02%\n",
      "\n",
      "Column: CodingActivities\n",
      "Missing Percentage: 16.02%\n",
      "\n",
      "Column: NEWCollabToolsAdmired\n",
      "Missing Percentage: 15.39%\n",
      "\n",
      "Column: YearsCodePro\n",
      "Missing Percentage: 14.48%\n",
      "\n",
      "Column: NEWCollabToolsWantToWorkWith\n",
      "Missing Percentage: 13.12%\n",
      "\n",
      "Column: ToolsTechHaveWorkedWith\n",
      "Missing Percentage: 12.73%\n",
      "\n",
      "Column: OpSysProfessional use\n",
      "Missing Percentage: 11.65%\n",
      "\n",
      "Column: LanguageWantToWorkWith\n",
      "Missing Percentage: 8.45%\n",
      "\n",
      "Column: OfficeStackSyncHaveWorkedWith\n",
      "Missing Percentage: 7.08%\n",
      "\n",
      "Column: SurveyLength\n",
      "Missing Percentage: 4.66%\n",
      "\n",
      "Column: SurveyEase\n",
      "Missing Percentage: 4.57%\n",
      "\n",
      "Column: NEWCollabToolsHaveWorkedWith\n",
      "Missing Percentage: 4.09%\n",
      "\n",
      "Column: OpSysPersonal use\n",
      "Missing Percentage: 3.10%\n",
      "\n",
      "Column: SOHow\n",
      "Missing Percentage: 2.80%\n",
      "\n",
      "Column: SOComm\n",
      "Missing Percentage: 2.41%\n",
      "\n",
      "Column: SOVisitFreq\n",
      "Missing Percentage: 2.18%\n",
      "\n",
      "Column: SOAccount\n",
      "Missing Percentage: 2.13%\n",
      "\n",
      "Column: LanguageHaveWorkedWith\n",
      "Missing Percentage: 2.12%\n",
      "\n",
      "Column: NEWSOSites\n",
      "Missing Percentage: 1.07%\n",
      "\n",
      "Column: DevType\n",
      "Missing Percentage: 1.02%\n",
      "\n",
      "Column: AISelect\n",
      "Missing Percentage: 0.83%\n",
      "\n",
      "Column: YearsCode\n",
      "Missing Percentage: 0.58%\n",
      "\n",
      "Column: LearnCode\n",
      "Missing Percentage: 0.32%\n",
      "\n",
      "Column: MainBranch\n",
      "Missing Percentage: 0.00%\n",
      "\n",
      "Column: Check\n",
      "Missing Percentage: 0.00%\n",
      "\n",
      "Column: EdLevel\n",
      "Missing Percentage: 0.00%\n",
      "\n",
      "Column: Age\n",
      "Missing Percentage: 0.00%\n",
      "\n",
      "Column: Employment\n",
      "Missing Percentage: 0.00%\n",
      "\n",
      "Column: ResponseId\n",
      "Missing Percentage: 0.00%\n",
      "\n",
      "Column: Country\n",
      "Missing Percentage: 0.00%\n",
      "\n",
      "Column: Employment_Employed_full_time\n",
      "Missing Percentage: 0.00%\n",
      "\n",
      "Column: Employment_Student_full_time\n",
      "Missing Percentage: 0.00%\n",
      "\n",
      "Column: Employment_Not_employed_but_looking_for_work\n",
      "Missing Percentage: 0.00%\n",
      "\n",
      "Column: Employment_Independent_contractor_freelancer_or_self_employed\n",
      "Missing Percentage: 0.00%\n",
      "\n",
      "Column: Employment_Not_employed_and_not_looking_for_work\n",
      "Missing Percentage: 0.00%\n",
      "\n",
      "Column: Employment_Student_part_time\n",
      "Missing Percentage: 0.00%\n",
      "\n",
      "Column: Employment_Employed_part_time\n",
      "Missing Percentage: 0.00%\n",
      "\n",
      "Column: Employment_I_prefer_not_to_say\n",
      "Missing Percentage: 0.00%\n",
      "\n",
      "Column: Employment_Retired\n",
      "Missing Percentage: 0.00%\n",
      "\n"
     ]
    }
   ],
   "source": [
    "## it will be easier if we calculate % of missing values to compare which column has higherst missing values.\n",
    "missing_percentage = (df.isnull().sum() / len(df)) * 100\n",
    "missing_percentage_sorted = missing_percentage.sort_values(ascending=False)\n",
    "for column_name, percentage in missing_percentage_sorted.items():\n",
    "    print(f\"Column: {column_name}\")\n",
    "    print(f\"Missing Percentage: {percentage:.2f}%\")\n",
    "    print(\"\")\n"
   ]
  },
  {
   "cell_type": "markdown",
   "metadata": {},
   "source": [
    "<h5>5.2 Impute missing values in numerical columns (e.g., `ConvertedCompYearly`) with the mean or median.</h5>\n"
   ]
  },
  {
   "cell_type": "code",
   "execution_count": 65,
   "metadata": {},
   "outputs": [
    {
     "data": {
      "text/plain": [
       "np.float64(86155.28726264134)"
      ]
     },
     "execution_count": 65,
     "metadata": {},
     "output_type": "execute_result"
    }
   ],
   "source": [
    "## let's first find the average i.e mean value for the column\n",
    "avg_conv_comp_yearly = df['ConvertedCompYearly'].astype(\"float\").mean(axis=0)\n",
    "avg_conv_comp_yearly"
   ]
  },
  {
   "cell_type": "code",
   "execution_count": 66,
   "metadata": {},
   "outputs": [
    {
     "data": {
      "text/plain": [
       "ConvertedCompYearly\n",
       "86155.287263     35495\n",
       "64444.000000       321\n",
       "53703.000000       308\n",
       "75184.000000       230\n",
       "85925.000000       226\n",
       "107406.000000      208\n",
       "150000.000000      207\n",
       "120000.000000      203\n",
       "200000.000000      196\n",
       "42962.000000       190\n",
       "48333.000000       178\n",
       "100000.000000      176\n",
       "59073.000000       164\n",
       "32222.000000       162\n",
       "69814.000000       162\n",
       "Name: count, dtype: int64"
      ]
     },
     "execution_count": 66,
     "metadata": {},
     "output_type": "execute_result"
    }
   ],
   "source": [
    "#now lets fill the missing values in ConvertedCompYearly which has 60.23% of missing values\n",
    "df['ConvertedCompYearly'] = df['ConvertedCompYearly'].replace(np.nan, avg_conv_comp_yearly)\n",
    "df['ConvertedCompYearly'].value_counts().head(15)"
   ]
  },
  {
   "cell_type": "markdown",
   "metadata": {},
   "source": [
    "<h5>5.3 Impute missing values in categorical columns (e.g., `RemoteWork`) with the most frequent value.</h5>\n"
   ]
  },
  {
   "cell_type": "code",
   "execution_count": 68,
   "metadata": {},
   "outputs": [
    {
     "data": {
      "text/plain": [
       "np.int64(9440)"
      ]
     },
     "execution_count": 68,
     "metadata": {},
     "output_type": "execute_result"
    }
   ],
   "source": [
    "#let's check how many missing values in remote work ?\n",
    "df['RemoteWork'].isnull().sum()"
   ]
  },
  {
   "cell_type": "code",
   "execution_count": 76,
   "metadata": {},
   "outputs": [
    {
     "data": {
      "text/plain": [
       "RemoteWork\n",
       "Hybrid (some remote, some in-person)    30299\n",
       "Remote                                  19165\n",
       "In-person                                9466\n",
       "Name: count, dtype: int64"
      ]
     },
     "execution_count": 76,
     "metadata": {},
     "output_type": "execute_result"
    }
   ],
   "source": [
    "#As we can see above the missing % in remote work is 16.02% so we are going to fill the missing values with mode i.e most frequent values.\n",
    "# Find the most frequent (mode) value\n",
    "most_frequent = df['RemoteWork'].mode()[0]\n",
    "# Replace missing values (NaN) with the mode\n",
    "df['RemoteWork'] = df['RemoteWork'].fillna(most_frequent)\n",
    "df['RemoteWork'].isnull().sum()\n",
    "df['RemoteWork'].value_counts()"
   ]
  },
  {
   "cell_type": "markdown",
   "metadata": {},
   "source": [
    "### 6. Feature Scaling and Transformation\n"
   ]
  },
  {
   "cell_type": "markdown",
   "metadata": {},
   "source": [
    "<h5>6.1 Apply Min-Max Scaling to normalize the `ConvertedCompYearly` column.</h5>\n"
   ]
  },
  {
   "cell_type": "code",
   "execution_count": 77,
   "metadata": {},
   "outputs": [],
   "source": [
    "## Write your code here\n",
    "from sklearn.preprocessing import MinMaxScaler, StandardScaler"
   ]
  },
  {
   "cell_type": "code",
   "execution_count": 80,
   "metadata": {},
   "outputs": [
    {
     "data": {
      "text/plain": [
       "np.int64(0)"
      ]
     },
     "execution_count": 80,
     "metadata": {},
     "output_type": "execute_result"
    }
   ],
   "source": [
    "df['ConvertedCompYearly'].isnull().sum()"
   ]
  },
  {
   "cell_type": "code",
   "execution_count": 78,
   "metadata": {},
   "outputs": [
    {
     "name": "stdout",
     "output_type": "stream",
     "text": [
      "\n",
      "5. 'ConvertedCompYearly' normalized using Min-Max Scaling. New column: 'ConvertedCompYearly_MinMax'\n",
      "   Min-Max Scaled values range: 0.0000 to 1.0000\n"
     ]
    }
   ],
   "source": [
    "#normalise the the column and create a new column \n",
    "min_max_scaler = MinMaxScaler()\n",
    "# Reshape the data for the scaler (it expects a 2D array)\n",
    "df['ConvertedCompYearly_MinMax'] = min_max_scaler.fit_transform(df[['ConvertedCompYearly']])\n",
    "print(\"\\n5. 'ConvertedCompYearly' normalized using Min-Max Scaling. New column: 'ConvertedCompYearly_MinMax'\")\n",
    "print(f\"   Min-Max Scaled values range: {df['ConvertedCompYearly_MinMax'].min():.4f} to {df['ConvertedCompYearly_MinMax'].max():.4f}\")"
   ]
  },
  {
   "cell_type": "code",
   "execution_count": 82,
   "metadata": {},
   "outputs": [],
   "source": [
    "import seaborn as sns\n",
    "import matplotlib.pyplot as plt"
   ]
  },
  {
   "cell_type": "code",
   "execution_count": 88,
   "metadata": {},
   "outputs": [
    {
     "name": "stderr",
     "output_type": "stream",
     "text": [
      "C:\\Users\\upbim\\AppData\\Local\\Programs\\Python\\Python312\\Lib\\site-packages\\seaborn\\_oldcore.py:1119: FutureWarning: use_inf_as_na option is deprecated and will be removed in a future version. Convert inf values to NaN before operating instead.\n",
      "  with pd.option_context('mode.use_inf_as_na', True):\n",
      "C:\\Users\\upbim\\AppData\\Local\\Programs\\Python\\Python312\\Lib\\site-packages\\seaborn\\_oldcore.py:1119: FutureWarning: use_inf_as_na option is deprecated and will be removed in a future version. Convert inf values to NaN before operating instead.\n",
      "  with pd.option_context('mode.use_inf_as_na', True):\n"
     ]
    },
    {
     "data": {
      "image/png": "[encoded data removed]",
      "text/plain": [
       "<Figure size 1500x500 with 2 Axes>"
      ]
     },
     "metadata": {},
     "output_type": "display_data"
    }
   ],
   "source": [
    "plt.figure(figsize=(15, 5))\n",
    "plt.subplot(1, 2, 1)\n",
    "sns.histplot(df['ConvertedCompYearly'], kde=True, color='skyblue', bins=50)\n",
    "plt.title('Original ConvertedCompYearly')\n",
    "plt.xlabel('Compensation')\n",
    "plt.ylabel('Frequency')\n",
    "plt.ticklabel_format(style='plain', axis='x')\n",
    "\n",
    "plt.subplot(1, 2, 2)\n",
    "sns.histplot(df['ConvertedCompYearly_MinMax'], kde=True, color='skyblue', bins=50)\n",
    "plt.title('MinMax ConvertedCompYearly')\n",
    "plt.xlabel('Compensation')\n",
    "plt.ylabel('Frequency')\n",
    "plt.ticklabel_format(style='plain', axis='x')\n",
    "plt.show()"
   ]
  },
  {
   "cell_type": "markdown",
   "metadata": {},
   "source": [
    "<h5>6.2 Log-transform the ConvertedCompYearly column to reduce skewness.</h5>\n"
   ]
  },
  {
   "cell_type": "code",
   "execution_count": 89,
   "metadata": {},
   "outputs": [
    {
     "name": "stdout",
     "output_type": "stream",
     "text": [
      "\n",
      "'ConvertedCompYearly' has been log-transformed. New column: 'ConvertedCompYearly_Log'\n",
      "Log-transformed Min-Max Scaled values range: 0.6931 to 16.6040\n"
     ]
    }
   ],
   "source": [
    "#transforming the ConvertedCompYearly into log to reduce skewness\n",
    "df['ConvertedCompYearly_Log'] = np.log1p(df['ConvertedCompYearly'])\n",
    "print(\"\\n'ConvertedCompYearly' has been log-transformed. New column: 'ConvertedCompYearly_Log'\")\n",
    "print(f\"Log-transformed Min-Max Scaled values range: {df['ConvertedCompYearly_MinMax_Log'].min():.4f} to {df['ConvertedCompYearly_MinMax_Log'].max():.4f}\")\n"
   ]
  },
  {
   "cell_type": "code",
   "execution_count": 91,
   "metadata": {},
   "outputs": [
    {
     "name": "stderr",
     "output_type": "stream",
     "text": [
      "C:\\Users\\upbim\\AppData\\Local\\Programs\\Python\\Python312\\Lib\\site-packages\\seaborn\\_oldcore.py:1119: FutureWarning: use_inf_as_na option is deprecated and will be removed in a future version. Convert inf values to NaN before operating instead.\n",
      "  with pd.option_context('mode.use_inf_as_na', True):\n",
      "C:\\Users\\upbim\\AppData\\Local\\Programs\\Python\\Python312\\Lib\\site-packages\\seaborn\\_oldcore.py:1119: FutureWarning: use_inf_as_na option is deprecated and will be removed in a future version. Convert inf values to NaN before operating instead.\n",
      "  with pd.option_context('mode.use_inf_as_na', True):\n",
      "C:\\Users\\upbim\\AppData\\Local\\Programs\\Python\\Python312\\Lib\\site-packages\\seaborn\\_oldcore.py:1119: FutureWarning: use_inf_as_na option is deprecated and will be removed in a future version. Convert inf values to NaN before operating instead.\n",
      "  with pd.option_context('mode.use_inf_as_na', True):\n"
     ]
    },
    {
     "data": {
      "image/png": "[encoded data removed]",
      "text/plain": [
       "<Figure size 1800x600 with 3 Axes>"
      ]
     },
     "metadata": {},
     "output_type": "display_data"
    }
   ],
   "source": [
    "plt.figure(figsize=(18, 6)) # Adjusted figure size for 3 plots\n",
    "sns.set_style(\"whitegrid\")\n",
    "\n",
    "plt.subplot(1, 3, 1) # 1 row, 3 columns, 1st plot\n",
    "sns.histplot(df['ConvertedCompYearly'], kde=True, color='skyblue', bins=50)\n",
    "plt.title('Original ConvertedCompYearly')\n",
    "plt.xlabel('Compensation')\n",
    "plt.ylabel('Frequency')\n",
    "plt.ticklabel_format(style='plain', axis='x')\n",
    "\n",
    "plt.subplot(1, 3, 2) # 1 row, 3 columns, 2nd plot\n",
    "sns.histplot(df['ConvertedCompYearly_MinMax'], kde=True, color='lightgreen', bins=50)\n",
    "plt.title('Min-Max Scaled ConvertedCompYearly')\n",
    "plt.xlabel('Min-Max Scaled Compensation')\n",
    "plt.ylabel('Frequency')\n",
    "\n",
    "plt.subplot(1, 3, 3) # 1 row, 3 columns, 3rd plot\n",
    "sns.histplot(df['ConvertedCompYearly_Log'], kde=True, color='purple', bins=50)\n",
    "plt.title('Log-Transformed')\n",
    "plt.xlabel('Log transoformed Compensation)')\n",
    "plt.ylabel('Frequency')\n",
    "\n",
    "plt.tight_layout()\n",
    "plt.show()"
   ]
  },
  {
   "cell_type": "markdown",
   "metadata": {},
   "source": [
    "### 7. Feature Engineering\n"
   ]
  },
  {
   "cell_type": "markdown",
   "metadata": {},
   "source": [
    "<h5>7.1 Create a new column `ExperienceLevel` based on the `YearsCodePro` column:</h5>\n"
   ]
  },
  {
   "cell_type": "code",
   "execution_count": 92,
   "metadata": {},
   "outputs": [
    {
     "data": {
      "text/plain": [
       "np.int64(8536)"
      ]
     },
     "execution_count": 92,
     "metadata": {},
     "output_type": "execute_result"
    }
   ],
   "source": [
    "## first lets see the null values and fill with median values\n",
    "df['YearsCodePro'].isnull().sum()"
   ]
  },
  {
   "cell_type": "code",
   "execution_count": 95,
   "metadata": {},
   "outputs": [
    {
     "name": "stderr",
     "output_type": "stream",
     "text": [
      "C:\\Users\\upbim\\AppData\\Local\\Temp\\ipykernel_5964\\2233897704.py:4: FutureWarning: A value is trying to be set on a copy of a DataFrame or Series through chained assignment using an inplace method.\n",
      "The behavior will change in pandas 3.0. This inplace method will never work because the intermediate object on which we are setting values always behaves as a copy.\n",
      "\n",
      "For example, when doing 'df[col].method(value, inplace=True)', try using 'df.method({col: value}, inplace=True)' or df[col] = df[col].method(value) instead, to perform the operation inplace on the original object.\n",
      "\n",
      "\n",
      "  df['YearsCodePro'].fillna(median_years_code_pro, inplace=True)\n"
     ]
    }
   ],
   "source": [
    "#filling the null values with median values\n",
    "df['YearsCodePro'] = pd.to_numeric(df['YearsCodePro'], errors='coerce')\n",
    "median_years_code_pro = df['YearsCodePro'].median()\n",
    "df['YearsCodePro'].fillna(median_years_code_pro, inplace=True)"
   ]
  },
  {
   "cell_type": "code",
   "execution_count": 96,
   "metadata": {},
   "outputs": [
    {
     "data": {
      "text/plain": [
       "np.int64(0)"
      ]
     },
     "execution_count": 96,
     "metadata": {},
     "output_type": "execute_result"
    }
   ],
   "source": [
    "df['YearsCodePro'].isnull().sum()"
   ]
  },
  {
   "cell_type": "code",
   "execution_count": 100,
   "metadata": {},
   "outputs": [
    {
     "data": {
      "text/plain": [
       "20        Senior (8-15 years)\n",
       "21        Senior (8-15 years)\n",
       "22         Expert (16+ years)\n",
       "23         Expert (16+ years)\n",
       "24        Senior (8-15 years)\n",
       "25         Expert (16+ years)\n",
       "26         Expert (16+ years)\n",
       "27      Mid-level (3-7 years)\n",
       "28        Senior (8-15 years)\n",
       "29      Mid-level (3-7 years)\n",
       "30    Entry-level (0-2 years)\n",
       "31      Mid-level (3-7 years)\n",
       "32      Mid-level (3-7 years)\n",
       "33         Expert (16+ years)\n",
       "34        Senior (8-15 years)\n",
       "35      Mid-level (3-7 years)\n",
       "36        Senior (8-15 years)\n",
       "37      Mid-level (3-7 years)\n",
       "38      Mid-level (3-7 years)\n",
       "39        Senior (8-15 years)\n",
       "Name: ExperienceLevel, dtype: category\n",
       "Categories (4, object): ['Entry-level (0-2 years)' < 'Mid-level (3-7 years)' < 'Senior (8-15 years)' < 'Expert (16+ years)']"
      ]
     },
     "execution_count": 100,
     "metadata": {},
     "output_type": "execute_result"
    }
   ],
   "source": [
    "#now lets do some binning and create new column ExperienceLevel\n",
    "#setting realistic year for more than 50 years\n",
    "column_years_code_pro = 'YearsCodePro'\n",
    "max_realistic_years = 51\n",
    "df[column_years_code_pro] = df[column_years_code_pro].replace('More than 50 years', str(max_realistic_years))\n",
    "initial_outliers_count = df[df[column_years_code_pro] > max_realistic_years].shape[0]\n",
    "df[column_years_code_pro] = df[column_years_code_pro].apply(lambda x: min(x, max_realistic_years))\n",
    "if initial_outliers_count > 0:\n",
    "    print(f\"Capped {initial_outliers_count} outlier values in '{column_years_code_pro}' to a maximum of {max_realistic_years} years.\")\n",
    "\n",
    "# Define bins and labels for experience levels\n",
    "bins = [-1, 2, 7, 15, max_realistic_years + 1] # -1 to include 0 years, max_realistic_years + 1 to include capped max\n",
    "labels = ['Entry-level (0-2 years)', 'Mid-level (3-7 years)', 'Senior (8-15 years)', 'Expert (16+ years)']\n",
    "\n",
    "    # Create the 'ExperienceLevel' column\n",
    "df['ExperienceLevel'] = pd.cut(df[column_years_code_pro], bins=bins, labels=labels, right=True)\n",
    "df['ExperienceLevel'].iloc[20:40] #to visualise specific range of data use iloc[startingrow:endingrow]\n"
   ]
  },
  {
   "cell_type": "markdown",
   "metadata": {},
   "source": [
    "### Summary\n"
   ]
  },
  {
   "cell_type": "markdown",
   "metadata": {},
   "source": [
    "In this lab, we:\n",
    "\n",
    "- Explored the dataset to identify inconsistencies and missing values.\n",
    "\n",
    "- Encoded categorical variables for analysis.\n",
    "\n",
    "- Handled missing values using imputation techniques.\n",
    "\n",
    "- Normalized and transformed numerical data to prepare it for analysis.\n",
    "\n",
    "- Engineered a new feature to enhance data interpretation.\n"
   ]
  },
  {
   "cell_type": "markdown",
   "metadata": {},
   "source": [
    "<h5>This lab is done by Bimal Upadhaya &copy 2025</h5>"
   ]
  },
  {
   "cell_type": "code",
   "execution_count": null,
   "metadata": {},
   "outputs": [],
   "source": []
  }
 ],
 "metadata": {
  "kernelspec": {
   "display_name": "Python 3 (ipykernel)",
   "language": "python",
   "name": "python3"
  },
  "language_info": {
   "codemirror_mode": {
    "name": "ipython",
    "version": 3
   },
   "file_extension": ".py",
   "mimetype": "text/x-python",
   "name": "python",
   "nbconvert_exporter": "python",
   "pygments_lexer": "ipython3",
   "version": "3.12.0"
  },
  "prev_pub_hash": "1e8e234f19fd098e27b0518a87f18de690e1c51f1d3263d5690927d19971251e"
 },
 "nbformat": 4,
 "nbformat_minor": 4
}
